{
 "cells": [
  {
   "cell_type": "markdown",
   "metadata": {},
   "source": [
    "### Importar las librerías necesarias\n"
   ]
  },
  {
   "cell_type": "code",
   "execution_count": 20,
   "metadata": {},
   "outputs": [],
   "source": [
    "import dash\n",
    "from dash import dcc, html, Input, Output\n",
    "import pandas as pd\n",
    "import plotly.express as px\n",
    "import plotly.graph_objs as go"
   ]
  },
  {
   "cell_type": "markdown",
   "metadata": {},
   "source": [
    "### Cargar y preparar los datos"
   ]
  },
  {
   "cell_type": "code",
   "execution_count": 21,
   "metadata": {},
   "outputs": [],
   "source": [
    "# Cargar los datos\n",
    "file_path = 'LLamados2024.csv'\n",
    "data = pd.read_csv(file_path, sep=';')\n",
    "\n",
    "# Crear columna 'mes' desde la columna 'fecha'\n",
    "data['mes'] = pd.to_datetime(data['fecha'], format='%d-%m-%Y', errors='coerce').dt.month_name()\n",
    "\n",
    "# Filtrar las filas con estado \"anulada\" y agregar una columna de conteo\n",
    "data['horas_anuladas'] = (data['estado'] == 'anulada').astype(int)\n",
    "\n",
    "# Agrupar los datos por la columna \"dadopor\" y contar la cantidad de atenciones\n",
    "grouped_df = data.groupby('dadopor').size().reset_index(name='cantidad_atenciones')"
   ]
  },
  {
   "cell_type": "markdown",
   "metadata": {},
   "source": [
    "### Crear la aplicación Dash"
   ]
  },
  {
   "cell_type": "code",
   "execution_count": 22,
   "metadata": {},
   "outputs": [],
   "source": [
    "app = dash.Dash(__name__)"
   ]
  },
  {
   "cell_type": "markdown",
   "metadata": {},
   "source": [
    "### Definir el layout del dashboard\n"
   ]
  },
  {
   "cell_type": "code",
   "execution_count": 23,
   "metadata": {},
   "outputs": [],
   "source": [
    "# Layout del Dashboard\n",
    "app.layout = html.Div([\n",
    "    html.H1(\"Dashboard de Contactos y Anulaciones\", style={'textAlign': 'center'}),\n",
    "    \n",
    "    # Administrativos v/s Pacientes Contactados\n",
    "    html.Div([\n",
    "        html.H2(\"Administrativos v/s Cantidad de Pacientes Contactados\"),\n",
    "        html.Label(\"Seleccionar un nombre:\"),\n",
    "        dcc.Dropdown(\n",
    "            id='nombre-dropdown',\n",
    "            options=[{'label': nombre, 'value': nombre} for nombre in grouped_df['dadopor'].unique()],\n",
    "            placeholder=\"Seleccione un nombre\",\n",
    "            clearable=True\n",
    "        ),\n",
    "        html.Label(\"Seleccionar una categoría de cantidad de atenciones:\"),\n",
    "        dcc.Dropdown(\n",
    "            id='cantidad-dropdown',\n",
    "            options=[\n",
    "                {'label': 'Entre 0 a 4000', 'value': '0-4000'},\n",
    "                {'label': 'Entre 4001 a 8000', 'value': '4001-8000'},\n",
    "                {'label': 'Entre 8001 en adelante', 'value': '8001+'}\n",
    "            ],\n",
    "            placeholder=\"Seleccione una categoría\",\n",
    "            clearable=True\n",
    "        ),\n",
    "        dcc.Graph(id='bar-chart'),\n",
    "    ], style={'marginBottom': '50px'}),\n",
    "\n",
    "    # Médicos v/s Horas Anuladas\n",
    "    html.Div([\n",
    "        html.H2(\"Médicos v/s Horas Anuladas\"),\n",
    "        html.Label(\"Seleccionar un médico:\"),\n",
    "        dcc.Dropdown(\n",
    "            id='medico-dropdown',\n",
    "            options=[\n",
    "                {'label': 'Todos', 'value': 'todos'}\n",
    "            ] + [{'label': medico, 'value': medico} for medico in data['Medico'].unique()],\n",
    "            placeholder=\"Seleccione un médico\",\n",
    "            clearable=True\n",
    "        ),\n",
    "        html.Label(\"Seleccionar dado por:\"),\n",
    "        dcc.Dropdown(\n",
    "            id='dadopor-dropdown',\n",
    "            options=[{'label': tipo, 'value': tipo} for tipo in data['dadopor'].unique()],\n",
    "            placeholder=\"Seleccione el tipo de personal\",\n",
    "            clearable=True\n",
    "        ),\n",
    "        html.Label(\"Seleccionar mes:\"),\n",
    "        dcc.Dropdown(\n",
    "            id='mes-dropdown',\n",
    "            options=[{'label': mes, 'value': mes} for mes in data['mes'].dropna().unique()],\n",
    "            placeholder=\"Seleccione un mes\",\n",
    "            clearable=True\n",
    "        ),\n",
    "        dcc.Graph(id='medicos-bar-chart'),\n",
    "    ]),\n",
    "    \n",
    "    #Horas Finalizadas por Tipo de Consulta\"\n",
    "    html.Div([\n",
    "        html.H2(\"Horas Finalizadas por Tipo de Consulta\"),\n",
    "        html.Label(\"Seleccionar Categoría:\"),\n",
    "        dcc.Dropdown(\n",
    "            id='categoria-consulta-dropdown',\n",
    "            options=[\n",
    "                {'label': 'Todas', 'value': 'todas'},\n",
    "                {'label': 'Consultas', 'value': 'Consulta'},\n",
    "                {'label': 'Controles', 'value': 'Control'},\n",
    "                {'label': 'Otros', 'value': 'Otros'}\n",
    "            ],\n",
    "            value='todas',\n",
    "            clearable=False\n",
    "        ),\n",
    "        html.Label(\"Seleccionar Mes:\"),\n",
    "        dcc.Dropdown(\n",
    "            id='mes-consulta-dropdown',\n",
    "            options=[{'label': mes, 'value': mes} for mes in data['mes'].dropna().unique()],\n",
    "            placeholder=\"Todos los meses\",\n",
    "            clearable=True\n",
    "        ),\n",
    "        dcc.Graph(id='horas-finalizadas-chart')\n",
    "    ]),\n",
    "])"
   ]
  },
  {
   "cell_type": "markdown",
   "metadata": {},
   "source": [
    "### Callbacks"
   ]
  },
  {
   "cell_type": "markdown",
   "metadata": {},
   "source": [
    "#### Callback para actualizar el gráfico Administrativos v/s Pacientes"
   ]
  },
  {
   "cell_type": "code",
   "execution_count": 24,
   "metadata": {},
   "outputs": [],
   "source": [
    "@app.callback(\n",
    "    Output('bar-chart', 'figure'),\n",
    "    [Input('nombre-dropdown', 'value'),\n",
    "     Input('cantidad-dropdown', 'value')]\n",
    ")\n",
    "def update_chart(nombre_seleccionado, cantidad_seleccionada):\n",
    "    df_filtrado = grouped_df.sort_values('cantidad_atenciones')  # Ordenar de menor a mayor por defecto\n",
    "    \n",
    "    if nombre_seleccionado:\n",
    "        df_filtrado = df_filtrado[df_filtrado['dadopor'] == nombre_seleccionado]\n",
    "    \n",
    "    if cantidad_seleccionada:\n",
    "        if cantidad_seleccionada == '0-4000':\n",
    "            df_filtrado = df_filtrado[df_filtrado['cantidad_atenciones'] <= 4000]\n",
    "        elif cantidad_seleccionada == '4001-8000':\n",
    "            df_filtrado = df_filtrado[(df_filtrado['cantidad_atenciones'] > 4000) & (df_filtrado['cantidad_atenciones'] <= 8000)]\n",
    "        elif cantidad_seleccionada == '8001+':\n",
    "            df_filtrado = df_filtrado[df_filtrado['cantidad_atenciones'] > 8000]\n",
    "    \n",
    "    fig = px.bar(\n",
    "        df_filtrado,\n",
    "        x='dadopor',\n",
    "        y='cantidad_atenciones',\n",
    "        title='Administrativos v/s Cantidad de pacientes contactados',\n",
    "        labels={'dadopor': 'Personal', 'cantidad_atenciones': 'Cantidad de Atenciones'}\n",
    "    )\n",
    "    \n",
    "    fig.update_layout(\n",
    "        xaxis_title='Personal',\n",
    "        yaxis_title='Cantidad de Atenciones',\n",
    "        xaxis_tickangle=-45  # Rotar etiquetas para mejor legibilidad\n",
    "    )\n",
    "    \n",
    "    return fig"
   ]
  },
  {
   "cell_type": "markdown",
   "metadata": {},
   "source": [
    "#### Callback para actualizar el gráfico Médicos v/s Horas Anuladas"
   ]
  },
  {
   "cell_type": "code",
   "execution_count": 25,
   "metadata": {},
   "outputs": [],
   "source": [
    "\n",
    "@app.callback(\n",
    "    Output('medicos-bar-chart', 'figure'),\n",
    "    [Input('medico-dropdown', 'value'),\n",
    "     Input('dadopor-dropdown', 'value'),\n",
    "     Input('mes-dropdown', 'value')]\n",
    ")\n",
    "def update_medicos_chart(medico_seleccionado, dado_por_seleccionado, mes_seleccionado):\n",
    "    df_filtrado = data\n",
    "    \n",
    "    if medico_seleccionado and medico_seleccionado != 'todos':\n",
    "        df_filtrado = df_filtrado[df_filtrado['Medico'] == medico_seleccionado]\n",
    "    \n",
    "    if dado_por_seleccionado:\n",
    "        df_filtrado = df_filtrado[df_filtrado['dadopor'] == dado_por_seleccionado]\n",
    "    \n",
    "    if mes_seleccionado:\n",
    "        df_filtrado = df_filtrado[df_filtrado['mes'] == mes_seleccionado]\n",
    "    \n",
    "    df_resumen = df_filtrado.groupby('Medico')['horas_anuladas'].mean().reset_index()\n",
    "    df_resumen = df_resumen.sort_values(by='horas_anuladas')\n",
    "    \n",
    "    fig = px.bar(\n",
    "        df_resumen,\n",
    "        x='Medico',\n",
    "        y='horas_anuladas',\n",
    "        title='Promedio de Horas Anuladas por Médico',\n",
    "        labels={'Medico': 'Médico', 'horas_anuladas': 'Promedio de Horas Anuladas'}\n",
    "    )\n",
    "    return fig"
   ]
  },
  {
   "cell_type": "markdown",
   "metadata": {},
   "source": [
    "#### Limpieza de los datos\n",
    "\n",
    "Se agrupan los datos en 3 categorias: Consultas, Control y otros. Para eliminar variaciones tales como : \n",
    "'Control sin Costo': 'Control sin costo' y no permitir que se formen diferentes grupos que significan lo mismo."
   ]
  },
  {
   "cell_type": "code",
   "execution_count": 26,
   "metadata": {},
   "outputs": [],
   "source": [
    "def categorize_and_group_consulta(tipo):\n",
    "    consulta_mapping = {\n",
    "        'Consulta sin Costo': 'Consulta sin costo',\n",
    "        'Consulta con Costo': 'Consulta con Costo',\n",
    "        \n",
    "        'Control sin Costo': 'Control sin costo',\n",
    "        'Control con Costo': 'Control con Costo',\n",
    "        'Control postOp sin costo': 'Control sin costo',\n",
    "        'Control sin costo': 'Control sin costo',\n",
    "        \n",
    "\n",
    "        'Revisión de ex. sin costo': 'Otros sin costo',\n",
    "        'Convenio - sin Costo': 'Otros sin costo'\n",
    "    }\n",
    "    \n",
    "    return consulta_mapping.get(tipo, tipo)\n",
    "\n"
   ]
  },
  {
   "cell_type": "markdown",
   "metadata": {},
   "source": [
    "#### Callback para el nuevo gráfico de Horas Finalizadas"
   ]
  },
  {
   "cell_type": "code",
   "execution_count": null,
   "metadata": {},
   "outputs": [],
   "source": [
    "\n",
    "@app.callback(\n",
    "    Output('horas-finalizadas-chart', 'figure'),\n",
    "    [Input('categoria-consulta-dropdown', 'value'),\n",
    "     Input('mes-consulta-dropdown', 'value')]\n",
    ")\n",
    "def update_horas_finalizadas_chart(categoria_seleccionada, mes_seleccionado):\n",
    "    # Filtrar datos para estado finalizado\n",
    "    df_finalizadas = data[data['estado'] == 'finalizada'].copy()\n",
    "    \n",
    "    # Aplicar categorización y agrupación\n",
    "    df_finalizadas['tipo_agrupado'] = df_finalizadas['tipoconsulta'].apply(categorize_and_group_consulta)\n",
    "    \n",
    "    # Filtrar por categoría si se selecciona\n",
    "    if categoria_seleccionada != 'todas':\n",
    "        # Función para mapear categoría seleccionada a tipos\n",
    "        categoria_mapping = {\n",
    "            'Consulta': ['Consulta sin costo', 'Consulta con Costo'],\n",
    "            'Control': ['Control sin costo', 'Control con Costo'],\n",
    "            'Otros': ['Otros sin costo']\n",
    "        }\n",
    "        tipos_permitidos = categoria_mapping.get(categoria_seleccionada, [])\n",
    "        df_finalizadas = df_finalizadas[df_finalizadas['tipo_agrupado'].isin(tipos_permitidos)]\n",
    "    \n",
    "    # Filtrar por mes si se selecciona\n",
    "    if mes_seleccionado:\n",
    "        df_finalizadas = df_finalizadas[df_finalizadas['mes'] == mes_seleccionado]\n",
    "    \n",
    "    # Agrupar y contar\n",
    "    grouped_data = df_finalizadas.groupby('tipo_agrupado').size()\n",
    "    \n",
    "    # Separar tipos con costo y sin costo\n",
    "    tipos_con_costo = grouped_data[grouped_data.index.str.contains('con Costo')].sort_index()\n",
    "    tipos_sin_costo = grouped_data[grouped_data.index.str.contains('sin costo')].sort_index()\n",
    "    \n",
    "\n",
    "    fig = go.Figure(data=[\n",
    "        go.Bar(\n",
    "            name='Con Costo', \n",
    "            x=tipos_con_costo.index, \n",
    "            y=tipos_con_costo.values, \n",
    "            marker_color='blue'\n",
    "        ),\n",
    "        go.Bar(\n",
    "            name='Sin Costo', \n",
    "            x=tipos_sin_costo.index, \n",
    "            y=tipos_sin_costo.values, \n",
    "            marker_color='red'\n",
    "        )\n",
    "    ])\n",
    "    \n",
    "    fig.update_layout(\n",
    "        title='Horas Finalizadas por Tipo de Consulta',\n",
    "        xaxis_title='Tipo de Consulta',\n",
    "        yaxis_title='Número de Horas',\n",
    "        barmode='group'\n",
    "    )\n",
    "    \n",
    "    return fig\n"
   ]
  },
  {
   "cell_type": "code",
   "execution_count": 28,
   "metadata": {},
   "outputs": [
    {
     "data": {
      "text/html": [
       "\n",
       "        <iframe\n",
       "            width=\"100%\"\n",
       "            height=\"650\"\n",
       "            src=\"http://127.0.0.1:8050/\"\n",
       "            frameborder=\"0\"\n",
       "            allowfullscreen\n",
       "            \n",
       "        ></iframe>\n",
       "        "
      ],
      "text/plain": [
       "<IPython.lib.display.IFrame at 0x260a7782c50>"
      ]
     },
     "metadata": {},
     "output_type": "display_data"
    }
   ],
   "source": [
    "if __name__ == '__main__':\n",
    "    app.run_server(debug=True)"
   ]
  }
 ],
 "metadata": {
  "kernelspec": {
   "display_name": ".venv",
   "language": "python",
   "name": "python3"
  },
  "language_info": {
   "codemirror_mode": {
    "name": "ipython",
    "version": 3
   },
   "file_extension": ".py",
   "mimetype": "text/x-python",
   "name": "python",
   "nbconvert_exporter": "python",
   "pygments_lexer": "ipython3",
   "version": "3.11.9"
  }
 },
 "nbformat": 4,
 "nbformat_minor": 2
}
